{
  "nbformat": 4,
  "nbformat_minor": 0,
  "metadata": {
    "colab": {
      "name": "class/objects",
      "provenance": [],
      "collapsed_sections": []
    },
    "kernelspec": {
      "name": "python3",
      "display_name": "Python 3"
    },
    "language_info": {
      "name": "python"
    }
  },
  "cells": [
    {
      "cell_type": "code",
      "metadata": {
        "colab": {
          "base_uri": "https://localhost:8080/"
        },
        "id": "qQZ5G4P4j9Sn",
        "outputId": "32fd7818-bfc4-412f-8cc6-c7dacd37e775"
      },
      "source": [
        "class Point3D:\n",
        "   def __init__(self,x,y,z):\n",
        "     self.x=x\n",
        "     self.y=y \n",
        "     self.z=z\n",
        "   def set_3d(self):\n",
        "    return \"({},{},{})\".format(self.x,self.y,self.z)\n",
        "my_point=Point3D(1,2,3)\n",
        "print(my_point.set_3d())\n"
      ],
      "execution_count": null,
      "outputs": [
        {
          "output_type": "stream",
          "text": [
            "(1,2,3)\n"
          ],
          "name": "stdout"
        }
      ]
    },
    {
      "cell_type": "code",
      "metadata": {
        "colab": {
          "base_uri": "https://localhost:8080/"
        },
        "id": "hJHyhR2J9FYU",
        "outputId": "6fd31662-a76b-4ca2-c33d-c2cc2b124141"
      },
      "source": [
        "class rectangle:\n",
        "   def __init__(self,length, width):\n",
        "      self.length=length\n",
        "      self.width=width\n",
        "   def area(self,length,width):\n",
        "     return \"l'aire est de{}\".format(length*width)\n",
        "   def perimeter(self,length,width):\n",
        "     return \"le perimetre est de{}\".format((length+width)*2)\n",
        "print(d.area(3,4))\n",
        "print(d.perimeter(3,4))\n"
      ],
      "execution_count": null,
      "outputs": [
        {
          "output_type": "stream",
          "text": [
            "l'aire est de12\n",
            "le perimetre est de14\n"
          ],
          "name": "stdout"
        }
      ]
    },
    {
      "cell_type": "code",
      "metadata": {
        "id": "YDJrBkdPHwAc",
        "colab": {
          "base_uri": "https://localhost:8080/"
        },
        "outputId": "86f40e12-ff1c-4944-cf04-56836f1a4ee5"
      },
      "source": [
        "class Circle():\n",
        "    def __init__(self,a,b,r):\n",
        "        self.a=a\n",
        "        self.b=b\n",
        "        self.r=r\n",
        "    def area(self):\n",
        "        return self.r**2*3.14\n",
        "    def perimeter(self):\n",
        "        return 2*self.r*3.14\n",
        "    def appartenance(self,x,y):\n",
        "      return (x-self.a)**2+(y-self.b)**2==self.r**2\n",
        "c=Circle(0,0,1)\n",
        "print(\"l'aire est:\",c.area())\n",
        "print(\"le perimetre est:\",c.perimeter())\n",
        "print(\"test appartenance b(1,2):\",c.appartenance(1,2))"
      ],
      "execution_count": 80,
      "outputs": [
        {
          "output_type": "stream",
          "text": [
            "l'aire est: 3.14\n",
            "le perimetre est: 6.28\n",
            "test appartenance b(1,2): False\n"
          ],
          "name": "stdout"
        }
      ]
    },
    {
      "cell_type": "code",
      "metadata": {
        "colab": {
          "base_uri": "https://localhost:8080/"
        },
        "id": "tNxVlUiA6qko",
        "outputId": "04c611cb-dabf-496d-b5ca-a3fdbd3e1d2d"
      },
      "source": [
        "class Account:\n",
        "  def __init__(self,Balance,Balance1):\n",
        "    self.balance=Balance\n",
        "    self.balance1=Balance1\n",
        "\n",
        "\n",
        "    \n",
        "  def deposit(self,amount):\n",
        "    self.balance+=amount\n",
        "    return ('Your New Balance =%d' %self.balance)\n",
        "  def withdraw(self,amount1):\n",
        "   self.balance-=amount1\n",
        "   return ('Your New Balance1 =%d'%self.balance1)\n",
        "  \n",
        "s=Account(700,800)\n",
        "print(s.deposit(300))\n",
        "print(s.withdraw(3000))\n"
      ],
      "execution_count": 86,
      "outputs": [
        {
          "output_type": "stream",
          "text": [
            "Your New Balance =1000\n",
            "Your New Balance1 =800\n"
          ],
          "name": "stdout"
        }
      ]
    }
  ]
}